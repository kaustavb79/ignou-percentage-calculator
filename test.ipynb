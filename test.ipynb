{
 "cells": [
  {
   "cell_type": "code",
   "execution_count": 1,
   "source": [
    "import json\r\n",
    "import course_dict as cd\r\n",
    "import pandas as pd"
   ],
   "outputs": [],
   "metadata": {}
  },
  {
   "cell_type": "code",
   "execution_count": 6,
   "source": [
    "with open('course_dictionary.json','w') as file:\r\n",
    "    json.dump(cd.BCA_SYLLABUS,file,indent=5)"
   ],
   "outputs": [],
   "metadata": {}
  },
  {
   "cell_type": "code",
   "execution_count": 2,
   "source": [
    "program = 'BCA'\r\n",
    "course_data = json.load(open('course_dictionary.json'))\r\n",
    "roll_no = '176568741'"
   ],
   "outputs": [],
   "metadata": {}
  },
  {
   "cell_type": "code",
   "execution_count": 3,
   "source": [
    "from selenium import webdriver\r\n",
    "from selenium.webdriver.support.ui import Select\r\n",
    "from selenium.webdriver.firefox.options import Options\r\n",
    "#Disabling the browser window to open\r\n",
    "option = Options()\r\n",
    "option.headless = True\r\n",
    "driver = webdriver.Firefox(options=option)\r\n",
    "\r\n",
    "# Default siter url\r\n",
    "driver.get(\"https://gradecard.ignou.ac.in/gradecardM/Result.asp\")"
   ],
   "outputs": [],
   "metadata": {}
  },
  {
   "cell_type": "code",
   "execution_count": 4,
   "source": [
    "student_detail = []"
   ],
   "outputs": [],
   "metadata": {}
  },
  {
   "cell_type": "code",
   "execution_count": 5,
   "source": [
    "try:\r\n",
    "    select = Select(driver.find_element_by_css_selector('body > form:nth-child(4) > select:nth-child(1)'))\r\n",
    "    select.select_by_value(program)\r\n",
    "    driver.execute_script(\"document.getElementsByName('eno')[0].value = '{}'\".format(roll_no))\r\n",
    "    driver.find_element_by_css_selector('body > form:nth-child(4) > input:nth-child(3)').click()\r\n",
    "except Exception as e:\r\n",
    "    print(e)\r\n",
    "    driver.close()\r\n",
    "    print(\"IGNOU Server Down!!! Try again after some time....\")\r\n",
    "    \r\n",
    "\r\n",
    "student = driver.find_elements_by_xpath('/html/body/form/b')\r\n",
    "if not student:\r\n",
    "    print(\"Invalid Enrollment Number !!!\")\r\n",
    "else:\r\n",
    "    for s in student:\r\n",
    "        student_detail.append(s.get_attribute('textContent'))\r\n",
    "    table = pd.read_html(driver.page_source)\r\n",
    "    "
   ],
   "outputs": [],
   "metadata": {}
  },
  {
   "cell_type": "code",
   "execution_count": 6,
   "source": [
    "student_detail"
   ],
   "outputs": [
    {
     "output_type": "execute_result",
     "data": {
      "text/plain": [
       "[' Enrolment Number: 176568741',\n",
       " ' Name: KAUSTAV BHATTACHARYA',\n",
       " ' Program: BCA',\n",
       " 'Note:- Assignment 4 and TE Practical do not apply to all the courses.']"
      ]
     },
     "metadata": {},
     "execution_count": 6
    }
   ],
   "metadata": {}
  },
  {
   "cell_type": "code",
   "execution_count": 17,
   "source": [
    "table[0][0]"
   ],
   "outputs": [
    {
     "output_type": "execute_result",
     "data": {
      "text/plain": [
       "0     Course Code\n",
       "1          BCS011\n",
       "2          BCS012\n",
       "3          BCS031\n",
       "4          BCS040\n",
       "5          BCS041\n",
       "6          BCS042\n",
       "7          BCS051\n",
       "8          BCS052\n",
       "9          BCS053\n",
       "10         BCS054\n",
       "11         BCS055\n",
       "12         BCS062\n",
       "13        BCSL013\n",
       "14        BCSL021\n",
       "15        BCSL022\n",
       "16        BCSL032\n",
       "17        BCSL033\n",
       "18        BCSL034\n",
       "19        BCSL043\n",
       "20        BCSL044\n",
       "21        BCSL045\n",
       "22        BCSL056\n",
       "23        BCSL057\n",
       "24        BCSL058\n",
       "25        BCSL063\n",
       "26        BCSP064\n",
       "27          ECO01\n",
       "28          ECO02\n",
       "29          FEG02\n",
       "30         MCS011\n",
       "31         MCS012\n",
       "32         MCS013\n",
       "33         MCS014\n",
       "34         MCS015\n",
       "35         MCS021\n",
       "36         MCS022\n",
       "37         MCS023\n",
       "38         MCS024\n",
       "39        MCSL016\n",
       "Name: 0, dtype: object"
      ]
     },
     "metadata": {},
     "execution_count": 17
    }
   ],
   "metadata": {}
  },
  {
   "cell_type": "code",
   "execution_count": 21,
   "source": [
    "for idx,col in enumerate(table[0]):\r\n",
    "    for idx1,c in enumerate(table[0][col]):\r\n",
    "        print(idx1,' --> ',c)"
   ],
   "outputs": [
    {
     "output_type": "error",
     "ename": "TypeError",
     "evalue": "'int' object is not iterable",
     "traceback": [
      "\u001b[1;31m---------------------------------------------------------------------------\u001b[0m",
      "\u001b[1;31mTypeError\u001b[0m                                 Traceback (most recent call last)",
      "\u001b[1;32m~\\AppData\\Local\\Temp/ipykernel_13544/1593744676.py\u001b[0m in \u001b[0;36m<module>\u001b[1;34m\u001b[0m\n\u001b[0;32m      1\u001b[0m \u001b[1;32mfor\u001b[0m \u001b[0midx\u001b[0m\u001b[1;33m,\u001b[0m\u001b[0mcol\u001b[0m \u001b[1;32min\u001b[0m \u001b[0menumerate\u001b[0m\u001b[1;33m(\u001b[0m\u001b[0mtable\u001b[0m\u001b[1;33m[\u001b[0m\u001b[1;36m0\u001b[0m\u001b[1;33m]\u001b[0m\u001b[1;33m)\u001b[0m\u001b[1;33m:\u001b[0m\u001b[1;33m\u001b[0m\u001b[1;33m\u001b[0m\u001b[0m\n\u001b[1;32m----> 2\u001b[1;33m     \u001b[1;32mfor\u001b[0m \u001b[0midx1\u001b[0m\u001b[1;33m,\u001b[0m\u001b[0mc\u001b[0m \u001b[1;32min\u001b[0m \u001b[0menumerate\u001b[0m\u001b[1;33m(\u001b[0m\u001b[0mcol\u001b[0m\u001b[1;33m)\u001b[0m\u001b[1;33m:\u001b[0m\u001b[1;33m\u001b[0m\u001b[1;33m\u001b[0m\u001b[0m\n\u001b[0m\u001b[0;32m      3\u001b[0m         \u001b[0mprint\u001b[0m\u001b[1;33m(\u001b[0m\u001b[0midx1\u001b[0m\u001b[1;33m,\u001b[0m\u001b[1;34m' --> '\u001b[0m\u001b[1;33m,\u001b[0m\u001b[0mc\u001b[0m\u001b[1;33m)\u001b[0m\u001b[1;33m\u001b[0m\u001b[1;33m\u001b[0m\u001b[0m\n",
      "\u001b[1;31mTypeError\u001b[0m: 'int' object is not iterable"
     ]
    }
   ],
   "metadata": {}
  }
 ],
 "metadata": {
  "orig_nbformat": 4,
  "language_info": {
   "name": "python",
   "version": "3.8.10",
   "mimetype": "text/x-python",
   "codemirror_mode": {
    "name": "ipython",
    "version": 3
   },
   "pygments_lexer": "ipython3",
   "nbconvert_exporter": "python",
   "file_extension": ".py"
  },
  "kernelspec": {
   "name": "python3",
   "display_name": "Python 3.8.10 64-bit ('ignou-percentage-calculator-1S7oqXw7': pipenv)"
  },
  "interpreter": {
   "hash": "1a64b31d36683ef94f9f95164c7af0ff3dbbd3deb0d307ab4fd2cde06149ece3"
  }
 },
 "nbformat": 4,
 "nbformat_minor": 2
}